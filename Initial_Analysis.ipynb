{
 "cells": [
  {
   "cell_type": "code",
   "execution_count": 2,
   "id": "b49ad1dc",
   "metadata": {},
   "outputs": [],
   "source": [
    "#import library\n",
    "import pandas as pd\n",
    "import matplotlib.pyplot as plt\n",
    "import matplotlib.patches as mpatches "
   ]
  },
  {
   "cell_type": "code",
   "execution_count": 3,
   "id": "0ea8d5a8",
   "metadata": {},
   "outputs": [
    {
     "data": {
      "text/html": [
       "<div>\n",
       "<style scoped>\n",
       "    .dataframe tbody tr th:only-of-type {\n",
       "        vertical-align: middle;\n",
       "    }\n",
       "\n",
       "    .dataframe tbody tr th {\n",
       "        vertical-align: top;\n",
       "    }\n",
       "\n",
       "    .dataframe thead th {\n",
       "        text-align: right;\n",
       "    }\n",
       "</style>\n",
       "<table border=\"1\" class=\"dataframe\">\n",
       "  <thead>\n",
       "    <tr style=\"text-align: right;\">\n",
       "      <th></th>\n",
       "      <th>customerID</th>\n",
       "      <th>gender</th>\n",
       "      <th>SeniorCitizen</th>\n",
       "      <th>Partner</th>\n",
       "      <th>Dependents</th>\n",
       "      <th>tenure</th>\n",
       "      <th>PhoneService</th>\n",
       "      <th>MultipleLines</th>\n",
       "      <th>InternetService</th>\n",
       "      <th>OnlineSecurity</th>\n",
       "      <th>...</th>\n",
       "      <th>DeviceProtection</th>\n",
       "      <th>TechSupport</th>\n",
       "      <th>StreamingTV</th>\n",
       "      <th>StreamingMovies</th>\n",
       "      <th>Contract</th>\n",
       "      <th>PaperlessBilling</th>\n",
       "      <th>PaymentMethod</th>\n",
       "      <th>MonthlyCharges</th>\n",
       "      <th>TotalCharges</th>\n",
       "      <th>Churn</th>\n",
       "    </tr>\n",
       "  </thead>\n",
       "  <tbody>\n",
       "    <tr>\n",
       "      <th>0</th>\n",
       "      <td>7590-VHVEG</td>\n",
       "      <td>Female</td>\n",
       "      <td>0</td>\n",
       "      <td>Yes</td>\n",
       "      <td>No</td>\n",
       "      <td>1</td>\n",
       "      <td>No</td>\n",
       "      <td>No phone service</td>\n",
       "      <td>DSL</td>\n",
       "      <td>No</td>\n",
       "      <td>...</td>\n",
       "      <td>No</td>\n",
       "      <td>No</td>\n",
       "      <td>No</td>\n",
       "      <td>No</td>\n",
       "      <td>Month-to-month</td>\n",
       "      <td>Yes</td>\n",
       "      <td>Electronic check</td>\n",
       "      <td>29.85</td>\n",
       "      <td>29.85</td>\n",
       "      <td>No</td>\n",
       "    </tr>\n",
       "    <tr>\n",
       "      <th>1</th>\n",
       "      <td>5575-GNVDE</td>\n",
       "      <td>Male</td>\n",
       "      <td>0</td>\n",
       "      <td>No</td>\n",
       "      <td>No</td>\n",
       "      <td>34</td>\n",
       "      <td>Yes</td>\n",
       "      <td>No</td>\n",
       "      <td>DSL</td>\n",
       "      <td>Yes</td>\n",
       "      <td>...</td>\n",
       "      <td>Yes</td>\n",
       "      <td>No</td>\n",
       "      <td>No</td>\n",
       "      <td>No</td>\n",
       "      <td>One year</td>\n",
       "      <td>No</td>\n",
       "      <td>Mailed check</td>\n",
       "      <td>56.95</td>\n",
       "      <td>1889.5</td>\n",
       "      <td>No</td>\n",
       "    </tr>\n",
       "    <tr>\n",
       "      <th>2</th>\n",
       "      <td>3668-QPYBK</td>\n",
       "      <td>Male</td>\n",
       "      <td>0</td>\n",
       "      <td>No</td>\n",
       "      <td>No</td>\n",
       "      <td>2</td>\n",
       "      <td>Yes</td>\n",
       "      <td>No</td>\n",
       "      <td>DSL</td>\n",
       "      <td>Yes</td>\n",
       "      <td>...</td>\n",
       "      <td>No</td>\n",
       "      <td>No</td>\n",
       "      <td>No</td>\n",
       "      <td>No</td>\n",
       "      <td>Month-to-month</td>\n",
       "      <td>Yes</td>\n",
       "      <td>Mailed check</td>\n",
       "      <td>53.85</td>\n",
       "      <td>108.15</td>\n",
       "      <td>Yes</td>\n",
       "    </tr>\n",
       "    <tr>\n",
       "      <th>3</th>\n",
       "      <td>7795-CFOCW</td>\n",
       "      <td>Male</td>\n",
       "      <td>0</td>\n",
       "      <td>No</td>\n",
       "      <td>No</td>\n",
       "      <td>45</td>\n",
       "      <td>No</td>\n",
       "      <td>No phone service</td>\n",
       "      <td>DSL</td>\n",
       "      <td>Yes</td>\n",
       "      <td>...</td>\n",
       "      <td>Yes</td>\n",
       "      <td>Yes</td>\n",
       "      <td>No</td>\n",
       "      <td>No</td>\n",
       "      <td>One year</td>\n",
       "      <td>No</td>\n",
       "      <td>Bank transfer (automatic)</td>\n",
       "      <td>42.30</td>\n",
       "      <td>1840.75</td>\n",
       "      <td>No</td>\n",
       "    </tr>\n",
       "    <tr>\n",
       "      <th>4</th>\n",
       "      <td>9237-HQITU</td>\n",
       "      <td>Female</td>\n",
       "      <td>0</td>\n",
       "      <td>No</td>\n",
       "      <td>No</td>\n",
       "      <td>2</td>\n",
       "      <td>Yes</td>\n",
       "      <td>No</td>\n",
       "      <td>Fiber optic</td>\n",
       "      <td>No</td>\n",
       "      <td>...</td>\n",
       "      <td>No</td>\n",
       "      <td>No</td>\n",
       "      <td>No</td>\n",
       "      <td>No</td>\n",
       "      <td>Month-to-month</td>\n",
       "      <td>Yes</td>\n",
       "      <td>Electronic check</td>\n",
       "      <td>70.70</td>\n",
       "      <td>151.65</td>\n",
       "      <td>Yes</td>\n",
       "    </tr>\n",
       "  </tbody>\n",
       "</table>\n",
       "<p>5 rows × 21 columns</p>\n",
       "</div>"
      ],
      "text/plain": [
       "   customerID  gender  SeniorCitizen Partner Dependents  tenure PhoneService  \\\n",
       "0  7590-VHVEG  Female              0     Yes         No       1           No   \n",
       "1  5575-GNVDE    Male              0      No         No      34          Yes   \n",
       "2  3668-QPYBK    Male              0      No         No       2          Yes   \n",
       "3  7795-CFOCW    Male              0      No         No      45           No   \n",
       "4  9237-HQITU  Female              0      No         No       2          Yes   \n",
       "\n",
       "      MultipleLines InternetService OnlineSecurity  ... DeviceProtection  \\\n",
       "0  No phone service             DSL             No  ...               No   \n",
       "1                No             DSL            Yes  ...              Yes   \n",
       "2                No             DSL            Yes  ...               No   \n",
       "3  No phone service             DSL            Yes  ...              Yes   \n",
       "4                No     Fiber optic             No  ...               No   \n",
       "\n",
       "  TechSupport StreamingTV StreamingMovies        Contract PaperlessBilling  \\\n",
       "0          No          No              No  Month-to-month              Yes   \n",
       "1          No          No              No        One year               No   \n",
       "2          No          No              No  Month-to-month              Yes   \n",
       "3         Yes          No              No        One year               No   \n",
       "4          No          No              No  Month-to-month              Yes   \n",
       "\n",
       "               PaymentMethod MonthlyCharges  TotalCharges Churn  \n",
       "0           Electronic check          29.85         29.85    No  \n",
       "1               Mailed check          56.95        1889.5    No  \n",
       "2               Mailed check          53.85        108.15   Yes  \n",
       "3  Bank transfer (automatic)          42.30       1840.75    No  \n",
       "4           Electronic check          70.70        151.65   Yes  \n",
       "\n",
       "[5 rows x 21 columns]"
      ]
     },
     "execution_count": 3,
     "metadata": {},
     "output_type": "execute_result"
    }
   ],
   "source": [
    "#load csv/dataset into pandas dataframe\n",
    "tcc = pd.read_csv(\"Telco-Customer-Churn.csv\")\n",
    "df = tcc.copy()\n",
    "df.head()"
   ]
  },
  {
   "cell_type": "code",
   "execution_count": 4,
   "id": "54c62d48",
   "metadata": {},
   "outputs": [
    {
     "data": {
      "text/plain": [
       "(7043, 21)"
      ]
     },
     "execution_count": 4,
     "metadata": {},
     "output_type": "execute_result"
    }
   ],
   "source": [
    "#getting the dimension of pandas dataframe\n",
    "tcc.shape"
   ]
  },
  {
   "cell_type": "code",
   "execution_count": 5,
   "id": "ca1b51b1",
   "metadata": {},
   "outputs": [
    {
     "data": {
      "text/plain": [
       "['customerID',\n",
       " 'gender',\n",
       " 'SeniorCitizen',\n",
       " 'Partner',\n",
       " 'Dependents',\n",
       " 'tenure',\n",
       " 'PhoneService',\n",
       " 'MultipleLines',\n",
       " 'InternetService',\n",
       " 'OnlineSecurity',\n",
       " 'OnlineBackup',\n",
       " 'DeviceProtection',\n",
       " 'TechSupport',\n",
       " 'StreamingTV',\n",
       " 'StreamingMovies',\n",
       " 'Contract',\n",
       " 'PaperlessBilling',\n",
       " 'PaymentMethod',\n",
       " 'MonthlyCharges',\n",
       " 'TotalCharges',\n",
       " 'Churn']"
      ]
     },
     "execution_count": 5,
     "metadata": {},
     "output_type": "execute_result"
    }
   ],
   "source": [
    "#to get the column names of a pandas dataframe\n",
    "list(tcc.columns)"
   ]
  },
  {
   "cell_type": "code",
   "execution_count": 6,
   "id": "c5c78cf5",
   "metadata": {},
   "outputs": [
    {
     "data": {
      "text/plain": [
       "gender\n",
       "Male      3555\n",
       "Female    3488\n",
       "Name: count, dtype: int64"
      ]
     },
     "execution_count": 6,
     "metadata": {},
     "output_type": "execute_result"
    }
   ],
   "source": [
    "#tcc_2 = tcc.copy\n",
    "# df.head()\n",
    "df['gender'].value_counts()"
   ]
  },
  {
   "cell_type": "code",
   "execution_count": 16,
   "id": "6d8c2c2f",
   "metadata": {},
   "outputs": [
    {
     "ename": "NameError",
     "evalue": "name 'bars' is not defined",
     "output_type": "error",
     "traceback": [
      "\u001b[1;31m---------------------------------------------------------------------------\u001b[0m",
      "\u001b[1;31mNameError\u001b[0m                                 Traceback (most recent call last)",
      "Cell \u001b[1;32mIn[16], line 6\u001b[0m\n\u001b[0;32m      4\u001b[0m plt\u001b[38;5;241m.\u001b[39mlegend(handles\u001b[38;5;241m=\u001b[39m[pop_a,pop_b])\n\u001b[0;32m      5\u001b[0m df[\u001b[38;5;124m'\u001b[39m\u001b[38;5;124mgender\u001b[39m\u001b[38;5;124m'\u001b[39m]\u001b[38;5;241m.\u001b[39mvalue_counts()\u001b[38;5;241m.\u001b[39mplot(kind\u001b[38;5;241m=\u001b[39m\u001b[38;5;124m'\u001b[39m\u001b[38;5;124mbar\u001b[39m\u001b[38;5;124m'\u001b[39m, legend\u001b[38;5;241m=\u001b[39m\u001b[38;5;28;01mTrue\u001b[39;00m,)\n\u001b[1;32m----> 6\u001b[0m \u001b[43mbars\u001b[49m[\u001b[38;5;241m0\u001b[39m]\u001b[38;5;241m.\u001b[39mset_color(\u001b[38;5;124m'\u001b[39m\u001b[38;5;124mgreen\u001b[39m\u001b[38;5;124m'\u001b[39m)\n\u001b[0;32m      7\u001b[0m bars[\u001b[38;5;241m1\u001b[39m]\u001b[38;5;241m.\u001b[39mset_color(\u001b[38;5;124m'\u001b[39m\u001b[38;5;124mblack\u001b[39m\u001b[38;5;124m'\u001b[39m)\n\u001b[0;32m      8\u001b[0m plt\u001b[38;5;241m.\u001b[39mtitle(\u001b[38;5;124m\"\u001b[39m\u001b[38;5;124mgender\u001b[39m\u001b[38;5;124m\"\u001b[39m)\n",
      "\u001b[1;31mNameError\u001b[0m: name 'bars' is not defined"
     ]
    },
    {
     "data": {
      "image/png": "[encoded data removed]",
      "text/plain": [
       "<Figure size 640x480 with 1 Axes>"
      ]
     },
     "metadata": {},
     "output_type": "display_data"
    }
   ],
   "source": [
    "color = ['lightblue', 'purple']\n",
    "pop_a = mpatches.Patch(color='#5DC83F', label='Male') \n",
    "pop_b = mpatches.Patch(color='#CE5D45', label='Female') \n",
    "plt.legend(handles=[pop_a,pop_b])\n",
    "df['gender'].value_counts().plot(kind='bar', legend=True)\n",
    "plt.title(\"gender\")"
   ]
  },
  {
   "cell_type": "code",
   "execution_count": 8,
   "id": "fd99cb77",
   "metadata": {},
   "outputs": [
    {
     "data": {
      "text/plain": [
       "SeniorCitizen\n",
       "0    5901\n",
       "1    1142\n",
       "Name: count, dtype: int64"
      ]
     },
     "execution_count": 8,
     "metadata": {},
     "output_type": "execute_result"
    }
   ],
   "source": [
    "df['SeniorCitizen'].value_counts()"
   ]
  },
  {
   "cell_type": "code",
   "execution_count": 9,
   "id": "338702e4",
   "metadata": {},
   "outputs": [
    {
     "data": {
      "text/plain": [
       "Text(0.5, 1.0, 'SeniorCitizen')"
      ]
     },
     "execution_count": 9,
     "metadata": {},
     "output_type": "execute_result"
    },
    {
     "data": {
      "image/png": "[encoded data removed]",
      "text/plain": [
       "<Figure size 640x480 with 1 Axes>"
      ]
     },
     "metadata": {},
     "output_type": "display_data"
    }
   ],
   "source": [
    "df['SeniorCitizen'].value_counts().plot(kind='bar',legend=True)\n",
    "plt.title(\"SeniorCitizen\")"
   ]
  },
  {
   "cell_type": "code",
   "execution_count": 10,
   "id": "53ddd6c6",
   "metadata": {},
   "outputs": [
    {
     "data": {
      "text/plain": [
       "Partner\n",
       "No     3641\n",
       "Yes    3402\n",
       "Name: count, dtype: int64"
      ]
     },
     "execution_count": 10,
     "metadata": {},
     "output_type": "execute_result"
    }
   ],
   "source": [
    "df['Partner'].value_counts()"
   ]
  },
  {
   "cell_type": "code",
   "execution_count": 11,
   "id": "bc4778a0",
   "metadata": {},
   "outputs": [
    {
     "data": {
      "text/plain": [
       "Text(0.5, 1.0, 'Partner')"
      ]
     },
     "execution_count": 11,
     "metadata": {},
     "output_type": "execute_result"
    },
    {
     "data": {
      "image/png": "[encoded data removed]",
      "text/plain": [
       "<Figure size 640x480 with 1 Axes>"
      ]
     },
     "metadata": {},
     "output_type": "display_data"
    }
   ],
   "source": [
    "df['Partner'].value_counts().plot(kind='bar',legend=True)\n",
    "plt.title('Partner')"
   ]
  },
  {
   "cell_type": "code",
   "execution_count": 12,
   "id": "e21601c9",
   "metadata": {},
   "outputs": [
    {
     "data": {
      "text/plain": [
       "Dependents\n",
       "No     4933\n",
       "Yes    2110\n",
       "Name: count, dtype: int64"
      ]
     },
     "execution_count": 12,
     "metadata": {},
     "output_type": "execute_result"
    }
   ],
   "source": [
    "df['Dependents'].value_counts()"
   ]
  },
  {
   "cell_type": "code",
   "execution_count": 13,
   "id": "0fa8685f",
   "metadata": {},
   "outputs": [
    {
     "data": {
      "text/plain": [
       "<matplotlib.axes._subplots.AxesSubplot at 0x1e127a32610>"
      ]
     },
     "execution_count": 13,
     "metadata": {},
     "output_type": "execute_result"
    },
    {
     "data": {
      "image/png": "[encoded data removed]",
      "text/plain": [
       "<Figure size 640x480 with 1 Axes>"
      ]
     },
     "metadata": {},
     "output_type": "display_data"
    }
   ],
   "source": [
    "df['Dependents'].value_counts().plot(kind='bar',legend=True)"
   ]
  },
  {
   "cell_type": "code",
   "execution_count": 14,
   "id": "06c62f16",
   "metadata": {},
   "outputs": [
    {
     "data": {
      "text/plain": [
       "Text(0.5, 1.0, 'Tenure')"
      ]
     },
     "execution_count": 14,
     "metadata": {},
     "output_type": "execute_result"
    },
    {
     "data": {
      "image/png": "[encoded data removed]",
      "text/plain": [
       "<Figure size 640x480 with 1 Axes>"
      ]
     },
     "metadata": {},
     "output_type": "display_data"
    }
   ],
   "source": [
    "df['tenure'].value_counts().plot(kind='bar',legend=True)\n",
    "plt.title('Tenure')"
   ]
  },
  {
   "cell_type": "code",
   "execution_count": null,
   "id": "e6da06a1",
   "metadata": {},
   "outputs": [],
   "source": []
  },
  {
   "cell_type": "code",
   "execution_count": 15,
   "id": "676e417b",
   "metadata": {},
   "outputs": [
    {
     "ename": "SyntaxError",
     "evalue": "invalid syntax (2362664233.py, line 1)",
     "output_type": "error",
     "traceback": [
      "\u001b[1;36m  Cell \u001b[1;32mIn[15], line 1\u001b[1;36m\u001b[0m\n\u001b[1;33m    tcc_2 <- tcc %>%\u001b[0m\n\u001b[1;37m                  ^\u001b[0m\n\u001b[1;31mSyntaxError\u001b[0m\u001b[1;31m:\u001b[0m invalid syntax\n"
     ]
    }
   ],
   "source": [
    "\n",
    "\n",
    "tcc_2 <- tcc %>%\n",
    "            mutate(\n",
    "                   SeniorCitizen = factor(SeniorCitizen,\n",
    "                                          levels = c(0, 1),\n",
    "                                          labels = c(\"Not senior\", \"Senior\")),\n",
    "                   Partner = factor(Partner,\n",
    "                                    levels = c(\"Yes\", \"No\")),\n",
    "                   Dependents = factor(Dependents,\n",
    "                                       levels = c(\"Yes\", \"No\")),\n",
    "                   PhoneService = factor(PhoneService,\n",
    "                                         levels = c(\"Yes\", \"No\")),\n",
    "                   MultipleLines = factor(MultipleLines,\n",
    "                                          levels = c(\"Yes\", \"No\", \"No phone service\")),\n",
    "                   InternetService = factor(InternetService,\n",
    "                                            levels = c(\"DSL\", \"Fiber optic\", \"No\")),\n",
    "                   OnlineSecurity = factor(OnlineSecurity,\n",
    "                                          levels = c(\"Yes\", \"No\", \"No internet service\")),\n",
    "                   OnlineBackup = factor(OnlineBackup,\n",
    "                                         levels = c(\"Yes\", \"No\", \"No internet service\")),\n",
    "                   DeviceProtection = factor(DeviceProtection,\n",
    "                                             levels = c(\"Yes\", \"No\", \"No internet service\")),\n",
    "                   TechSupport = factor(TechSupport,\n",
    "                                        levels = c(\"Yes\", \"No\", \"No internet service\")),\n",
    "                   StreamingTV = factor(StreamingTV,\n",
    "                                        levels = c(\"Yes\", \"No\", \"No internet service\")),\n",
    "                   StreamingMovies = factor(StreamingMovies,\n",
    "                                            levels = c(\"Yes\", \"No\", \"No internet service\")),\n",
    "                   Contract = factor(Contract,\n",
    "                                     levels = c(\"Month-to-month\", \"One year\", \"Two year\")),\n",
    "                   PaperlessBilling = factor(PaperlessBilling,\n",
    "                                             levels = c(\"Yes\", \"No\")),\n",
    "                   PaymentMethod = factor(PaymentMethod,\n",
    "                                          levels = c(\"Mailed check\",\n",
    "                                                     \"Electronic check\",\n",
    "                                                     \"Bank transfer (automatic)\",\n",
    "                                                     \"Credit card (automatic)\")),\n",
    "                   Churn = factor(Churn,\n",
    "                                  levels = c(\"Yes\", \"No\")))\n",
    "#\n",
    "#######################################################\n",
    "#\n",
    "# Some plots\n",
    "#\n",
    "ggplot(tcc_2,\n",
    "       aes(x = factor(1),  # Show nothing on x-axis\n",
    "           fill = gender)) +\n",
    "  geom_bar() + \n",
    "  labs(x = \"\") +\n",
    "  scale_x_discrete(breaks = NULL) +\n",
    "  theme_bw() +\n",
    "  theme(axis.text.x  = element_blank(),\n",
    "        axis.ticks.x  = element_blank())\n",
    "#\n",
    "ggplot(tcc_2,\n",
    "       aes(x = factor(1),  # Show nothing on x-axis\n",
    "           fill = SeniorCitizen)) +\n",
    "  geom_bar() + \n",
    "  labs(x = \"\") +\n",
    "  scale_x_discrete(breaks = NULL) +\n",
    "  theme_bw() +\n",
    "  theme(axis.text.x  = element_blank(),\n",
    "        axis.ticks.x  = element_blank())\n",
    "#\n",
    "#\n",
    "ggplot(tcc_2,\n",
    "       aes(x = factor(1),  # Show nothing on x-axis\n",
    "           fill = Partner)) +\n",
    "  geom_bar() + \n",
    "  labs(x = \"\") +\n",
    "  scale_x_discrete(breaks = NULL) +\n",
    "  theme_bw() +\n",
    "  theme(axis.text.x  = element_blank(),\n",
    "        axis.ticks.x  = element_blank())\n",
    "#\n",
    "ggplot(tcc_2,\n",
    "       aes(x = factor(1),  # Show nothing on x-axis\n",
    "           fill = Dependents)) +\n",
    "  geom_bar() + \n",
    "  labs(x = \"\") +\n",
    "  scale_x_discrete(breaks = NULL) +\n",
    "  theme_bw() +\n",
    "  theme(axis.text.x  = element_blank(),\n",
    "        axis.ticks.x  = element_blank())\n",
    "#\n",
    "# -------------------\n",
    "#\n",
    "# Example of histogram\n",
    "#\n",
    "ggplot(tcc_2,\n",
    "       aes(x = tenure)) +\n",
    "  geom_histogram() + \n",
    "  labs(x = \"tenure (UNITS?)\") +\n",
    "  theme_bw()\n",
    "#\n",
    "# -------------------\n",
    "#\n",
    "ggplot(tcc_2,\n",
    "       aes(x = factor(1),  # Show nothing on x-axis\n",
    "           fill = PhoneService)) +\n",
    "  geom_bar() + \n",
    "  labs(x = \"\") +\n",
    "  scale_x_discrete(breaks = NULL) +\n",
    "  theme_bw() +\n",
    "  theme(axis.text.x  = element_blank(),\n",
    "        axis.ticks.x  = element_blank())\n",
    "#\n",
    "ggplot(tcc_2,\n",
    "       aes(x = factor(1),  # Show nothing on x-axis\n",
    "           fill = MultipleLines)) +\n",
    "  geom_bar() + \n",
    "  labs(x = \"\") +\n",
    "  scale_x_discrete(breaks = NULL) +\n",
    "  theme_bw() +\n",
    "  theme(axis.text.x  = element_blank(),\n",
    "        axis.ticks.x  = element_blank())\n",
    "#\n",
    "ggplot(tcc_2,\n",
    "       aes(x = factor(1),  # Show nothing on x-axis\n",
    "           fill = InternetService)) +\n",
    "  geom_bar() + \n",
    "  labs(x = \"\") +\n",
    "  scale_x_discrete(breaks = NULL) +\n",
    "  theme_bw() +\n",
    "  theme(axis.text.x  = element_blank(),\n",
    "        axis.ticks.x  = element_blank())\n",
    "#\n",
    "ggplot(tcc_2,\n",
    "       aes(x = factor(1),  # Show nothing on x-axis\n",
    "           fill = OnlineSecurity)) +\n",
    "  geom_bar() + \n",
    "  labs(x = \"\") +\n",
    "  scale_x_discrete(breaks = NULL) +\n",
    "  theme_bw() +\n",
    "  theme(axis.text.x  = element_blank(),\n",
    "        axis.ticks.x  = element_blank())\n",
    "#\n",
    "ggplot(tcc_2,\n",
    "       aes(x = factor(1),  # Show nothing on x-axis\n",
    "           fill = OnlineBackup)) +\n",
    "  geom_bar() + \n",
    "  labs(x = \"\") +\n",
    "  scale_x_discrete(breaks = NULL) +\n",
    "  theme_bw() +\n",
    "  theme(axis.text.x  = element_blank(),\n",
    "        axis.ticks.x  = element_blank())\n",
    "#\n",
    "ggplot(tcc_2,\n",
    "       aes(x = factor(1),  # Show nothing on x-axis\n",
    "           fill = DeviceProtection)) +\n",
    "  geom_bar() + \n",
    "  labs(x = \"\") +\n",
    "  scale_x_discrete(breaks = NULL) +\n",
    "  theme_bw() +\n",
    "  theme(axis.text.x  = element_blank(),\n",
    "        axis.ticks.x  = element_blank())\n",
    "#\n",
    "ggplot(tcc_2,\n",
    "       aes(x = factor(1),  # Show nothing on x-axis\n",
    "           fill = TechSupport)) +\n",
    "  geom_bar() + \n",
    "  labs(x = \"\") +\n",
    "  scale_x_discrete(breaks = NULL) +\n",
    "  theme_bw() +\n",
    "  theme(axis.text.x  = element_blank(),\n",
    "        axis.ticks.x  = element_blank())\n",
    "#\n",
    "ggplot(tcc_2,\n",
    "       aes(x = factor(1),  # Show nothing on x-axis\n",
    "           fill = StreamingTV)) +\n",
    "  geom_bar() + \n",
    "  labs(x = \"\") +\n",
    "  scale_x_discrete(breaks = NULL) +\n",
    "  theme_bw() +\n",
    "  theme(axis.text.x  = element_blank(),\n",
    "        axis.ticks.x  = element_blank())\n",
    "#\n",
    "ggplot(tcc_2,\n",
    "       aes(x = factor(1),  # Show nothing on x-axis\n",
    "           fill = StreamingMovies)) +\n",
    "  geom_bar() + \n",
    "  labs(x = \"\") +\n",
    "  scale_x_discrete(breaks = NULL) +\n",
    "  theme_bw() +\n",
    "  theme(axis.text.x  = element_blank(),\n",
    "        axis.ticks.x  = element_blank())\n",
    "#\n",
    "#################################\n",
    "#\n",
    "# Examples of cross-classification\n",
    "#\n",
    "ggplot(tcc_2,\n",
    "       aes(x = OnlineSecurity,  # Show nothing on x-axis\n",
    "           fill = OnlineBackup)) +\n",
    "  geom_bar() + \n",
    "  theme_bw() +\n",
    "  theme()\n",
    "#\n",
    "# -------------------\n",
    "#\n",
    "# Show proportions\n",
    "#\n",
    "ggplot(tcc_2,\n",
    "       aes(x = OnlineSecurity,  # Show nothing on x-axis\n",
    "           fill = OnlineBackup)) +\n",
    "  geom_bar(position = \"fill\") + \n",
    "  labs(y  = \"Proportion\") +\n",
    "  theme_bw() +\n",
    "  theme()\n",
    "#\n",
    "# -------------------\n",
    "#\n",
    "ggplot(tcc_2,\n",
    "       aes(x = factor(1),  # Show nothing on x-axis\n",
    "           fill = Contract)) +\n",
    "  geom_bar() + \n",
    "  labs(x = \"\") +\n",
    "  scale_x_discrete(breaks = NULL) +\n",
    "  theme_bw() +\n",
    "  theme(axis.text.x  = element_blank(),\n",
    "        axis.ticks.x  = element_blank())\n",
    "#\n",
    "ggplot(tcc_2,\n",
    "       aes(x = factor(1),  # Show nothing on x-axis\n",
    "           fill = PaperlessBilling)) +\n",
    "  geom_bar() + \n",
    "  labs(x = \"\") +\n",
    "  scale_x_discrete(breaks = NULL) +\n",
    "  theme_bw() +\n",
    "  theme(axis.text.x  = element_blank(),\n",
    "        axis.ticks.x  = element_blank())\n",
    "#\n",
    "ggplot(tcc_2,\n",
    "       aes(x = factor(1),  # Show nothing on x-axis\n",
    "           fill = PaymentMethod)) +\n",
    "  geom_bar() + \n",
    "  labs(x = \"\") +\n",
    "  scale_x_discrete(breaks = NULL) +\n",
    "  theme_bw() +\n",
    "  theme(axis.text.x  = element_blank(),\n",
    "        axis.ticks.x  = element_blank())\n",
    "#\n",
    "# -------------------\n",
    "#\n",
    "# Examples of histogram\n",
    "#\n",
    "ggplot(tcc_2,\n",
    "       aes(x = MonthlyCharges)) +\n",
    "  geom_histogram() + \n",
    "  labs(x = \"Monthly Charges (UNITS?)\") +\n",
    "  theme_bw()\n",
    "#\n",
    "ggplot(tcc_2,\n",
    "       aes(x = TotalCharges)) +\n",
    "  geom_histogram() + \n",
    "  labs(x = \"Total Charges (UNITS?)\") +\n",
    "  theme_bw()\n",
    "#\n",
    "# -------------------\n",
    "#\n",
    "ggplot(tcc_2,\n",
    "       aes(x = factor(1),  # Show nothing on x-axis\n",
    "           fill = Churn)) +\n",
    "  geom_bar() + \n",
    "  labs(x = \"\") +\n",
    "  scale_x_discrete(breaks = NULL) +\n",
    "  theme_bw() +\n",
    "  theme(axis.text.x  = element_blank(),\n",
    "        axis.ticks.x  = element_blank())\n",
    "#\n",
    "#######################################\n",
    "#\n",
    "# Is there a relationship between\n",
    "# TotalCharges and MonthlyCharges,\n",
    "# that takes Tenure into account\n",
    "#\n",
    "ggplot(tcc_2,\n",
    "       aes(x = TotalCharges,\n",
    "           y = tenure * MonthlyCharges)) +\n",
    "  geom_point() +\n",
    "  geom_abline(slope = 1, intercept = 0) +\n",
    "  coord_fixed() +\n",
    "  theme_bw()\n",
    "#\n",
    "####################################\n",
    "#\n",
    "# Dependence on churn\n",
    "#\n",
    "# Of course, the aim is to assess dependence of churn\n",
    "#\n",
    "ggplot(tcc_2,\n",
    "       aes(x = Churn,\n",
    "           y = TotalCharges)) +\n",
    "  geom_boxplot(varwidth = TRUE) +\n",
    "  # geom_violin(scale = \"count\") +\n",
    "  theme_bw()\n",
    "#\n",
    "ggplot(tcc_2,\n",
    "       aes(x = Churn,\n",
    "           y = MonthlyCharges)) +\n",
    "  geom_boxplot(varwidth = TRUE) +\n",
    "  theme_bw()\n",
    "#\n",
    "ggplot(tcc_2,\n",
    "       aes(x = Churn,\n",
    "           y = tenure)) +\n",
    "  geom_boxplot(varwidth = TRUE) +\n",
    "  theme_bw()\n",
    "#\n",
    "############################\n",
    "#\n",
    "# Dependence of churn...\n",
    "#\n",
    "ggplot(tcc_2,\n",
    "       aes(x = gender,  # Show nothing on x-axis\n",
    "           fill = Churn)) +\n",
    "  geom_bar(position = \"fill\") + \n",
    "  labs(y  = \"Proportion\") +\n",
    "  theme_bw() +\n",
    "  theme()\n",
    "#\n",
    "ggplot(tcc_2,\n",
    "       aes(x = SeniorCitizen,  # Show nothing on x-axis\n",
    "           fill = Churn)) +\n",
    "  geom_bar(position = \"fill\") + \n",
    "  labs(y  = \"Proportion\") +\n",
    "  theme_bw() +\n",
    "  theme()\n",
    "#\n",
    "ggplot(tcc_2,\n",
    "       aes(x = Partner,  # Show nothing on x-axis\n",
    "           fill = Churn)) +\n",
    "  geom_bar(position = \"fill\") + \n",
    "  labs(y  = \"Proportion\") +\n",
    "  theme_bw() +\n",
    "  theme()\n",
    "#\n",
    "ggplot(tcc_2,\n",
    "       aes(x = Dependents,  # Show nothing on x-axis\n",
    "           fill = Churn)) +\n",
    "  geom_bar(position = \"fill\") + \n",
    "  labs(y  = \"Proportion\") +\n",
    "  theme_bw() +\n",
    "  theme()\n",
    "#\n",
    "ggplot(tcc_2,\n",
    "       aes(x = InternetService,  # Show nothing on x-axis\n",
    "           fill = Churn)) +\n",
    "  geom_bar(position = \"fill\") + \n",
    "  labs(y  = \"Proportion\") +\n",
    "  theme_bw() +\n",
    "  theme()\n",
    "#\n",
    "ggplot(tcc_2,\n",
    "       aes(x = TechSupport,  # Show nothing on x-axis\n",
    "           fill = Churn)) +\n",
    "  geom_bar(position = \"fill\") + \n",
    "  labs(y  = \"Proportion\") +\n",
    "  theme_bw() +\n",
    "  theme()\n",
    "#\n",
    "ggplot(tcc_2,\n",
    "       aes(x = StreamingTV,  # Show nothing on x-axis\n",
    "           fill = Churn)) +\n",
    "  geom_bar(position = \"fill\") + \n",
    "  labs(y  = \"Proportion\") +\n",
    "  theme_bw() +\n",
    "  theme()\n",
    "#\n",
    "ggplot(tcc_2,\n",
    "       aes(x = Contract,  # Show nothing on x-axis\n",
    "           fill = Churn)) +\n",
    "  geom_bar(position = \"fill\") + \n",
    "  labs(y  = \"Proportion\") +\n",
    "  theme_bw() +\n",
    "  theme()\n",
    "#\n",
    "ggplot(tcc_2,\n",
    "       aes(x = PaperlessBilling,  # Show nothing on x-axis\n",
    "           fill = Churn)) +\n",
    "  geom_bar(position = \"fill\") + \n",
    "  labs(y  = \"Proportion\") +\n",
    "  theme_bw() +\n",
    "  theme()\n",
    "#\n",
    "ggplot(tcc_2,\n",
    "       aes(x = PaymentMethod,  # Show nothing on x-axis\n",
    "           fill = Churn)) +\n",
    "  geom_bar(position = \"fill\") + \n",
    "  labs(y  = \"Proportion\") +\n",
    "  theme_bw() +\n",
    "  theme(axis.text.x = element_text(angle = 90,\n",
    "                                   hjust = 1,\n",
    "                                   vjust = 0.5))"
   ]
  },
  {
   "cell_type": "code",
   "execution_count": null,
   "id": "0e84411f",
   "metadata": {},
   "outputs": [],
   "source": []
  }
 ],
 "metadata": {
  "jupytext": {
   "cell_metadata_filter": "-all",
   "main_language": "R",
   "notebook_metadata_filter": "-all"
  },
  "kernelspec": {
   "display_name": "Python 3",
   "language": "python",
   "name": "python3"
  },
  "language_info": {
   "codemirror_mode": {
    "name": "ipython",
    "version": 3
   },
   "file_extension": ".py",
   "mimetype": "text/x-python",
   "name": "python",
   "nbconvert_exporter": "python",
   "pygments_lexer": "ipython3",
   "version": "3.8.2"
  }
 },
 "nbformat": 4,
 "nbformat_minor": 5
}
